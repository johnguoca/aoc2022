{
 "cells": [
  {
   "cell_type": "code",
   "execution_count": 9,
   "id": "ace05005",
   "metadata": {},
   "outputs": [
    {
     "name": "stdout",
     "output_type": "stream",
     "text": [
      "466\n"
     ]
    }
   ],
   "source": [
    "enclosed_pairs = 0\n",
    "with open('input.txt') as file:\n",
    "    for f in file:\n",
    "        p1, p2 = f.split(',')\n",
    "        p1 = p1.strip()\n",
    "        p2 = p2.strip()\n",
    "#         print(p1)\n",
    "#         print(p2)\n",
    "        p1_start, p1_end = p1.split('-')\n",
    "        p2_start, p2_end = p2.split('-')\n",
    "        p1_start = int(p1_start)\n",
    "        p1_end = int(p1_end)\n",
    "        p2_start = int(p2_start)\n",
    "        p2_end = int(p2_end)\n",
    "        if ((p1_start <= p2_start) & (p1_end >= p2_end)) | ((p2_start <= p1_start) & (p2_end >= p1_end)):\n",
    "#             print('Match')\n",
    "            \n",
    "            enclosed_pairs += 1\n",
    "print(enclosed_pairs)\n",
    "            \n",
    "        "
   ]
  },
  {
   "cell_type": "code",
   "execution_count": 14,
   "id": "15901943",
   "metadata": {},
   "outputs": [
    {
     "name": "stdout",
     "output_type": "stream",
     "text": [
      "865\n"
     ]
    }
   ],
   "source": [
    "enclosed_pairs = 0\n",
    "with open('input.txt') as file:\n",
    "    for f in file:\n",
    "        p1, p2 = f.split(',')\n",
    "        p1 = p1.strip()\n",
    "        p2 = p2.strip()\n",
    "#         print(p1)\n",
    "#         print(p2)\n",
    "        p1_start, p1_end = p1.split('-')\n",
    "        p2_start, p2_end = p2.split('-')\n",
    "        p1_start = int(p1_start)\n",
    "        p1_end = int(p1_end)\n",
    "        p2_start = int(p2_start)\n",
    "        p2_end = int(p2_end)\n",
    "        if ((p1_end >= p2_start) & (p2_end >= p1_start)) | ((p2_end >= p1_start) & (p1_end >= p2_start)):\n",
    "#             print('Match')\n",
    "            \n",
    "            enclosed_pairs += 1\n",
    "\n",
    "print(enclosed_pairs)\n",
    "            \n",
    "        "
   ]
  },
  {
   "cell_type": "code",
   "execution_count": null,
   "id": "28d7df57",
   "metadata": {},
   "outputs": [],
   "source": []
  }
 ],
 "metadata": {
  "kernelspec": {
   "display_name": "Python 3 (ipykernel)",
   "language": "python",
   "name": "python3"
  },
  "language_info": {
   "codemirror_mode": {
    "name": "ipython",
    "version": 3
   },
   "file_extension": ".py",
   "mimetype": "text/x-python",
   "name": "python",
   "nbconvert_exporter": "python",
   "pygments_lexer": "ipython3",
   "version": "3.9.12"
  }
 },
 "nbformat": 4,
 "nbformat_minor": 5
}
