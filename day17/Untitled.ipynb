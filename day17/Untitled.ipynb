{
 "cells": [
  {
   "cell_type": "code",
   "execution_count": 67,
   "id": "67d0d34f",
   "metadata": {},
   "outputs": [],
   "source": [
    "import pandas as pd\n",
    "import numpy as np\n",
    "from queue import Queue\n",
    "from tqdm import tqdm_notebook"
   ]
  },
  {
   "cell_type": "code",
   "execution_count": 166,
   "id": "dd7a8f5a",
   "metadata": {
    "scrolled": false
   },
   "outputs": [
    {
     "name": "stderr",
     "output_type": "stream",
     "text": [
      "/var/folders/d5/f5qxbxd93vg0sqk_wkcp0g0h0000gn/T/ipykernel_51090/2483741427.py:12: TqdmDeprecationWarning: This function will be removed in tqdm==5.0.0\n",
      "Please use `tqdm.notebook.tqdm` instead of `tqdm.tqdm_notebook`\n",
      "  for current_round in tqdm_notebook(range(1, 3601)):\n"
     ]
    },
    {
     "data": {
      "application/vnd.jupyter.widget-view+json": {
       "model_id": "93fb781e390e49348b3abd91770216ae",
       "version_major": 2,
       "version_minor": 0
      },
      "text/plain": [
       "  0%|          | 0/3600 [00:00<?, ?it/s]"
      ]
     },
     "metadata": {},
     "output_type": "display_data"
    },
    {
     "name": "stdout",
     "output_type": "stream",
     "text": [
      "Height after 1724 rounds: 2619, diff: 2618\n",
      "Pattern: 7\n",
      "Height after 3454 rounds: 5266, diff: 2647\n",
      "Pattern: 7\n",
      "5492\n"
     ]
    }
   ],
   "source": [
    "with open('input.txt') as file:\n",
    "    for f in file:\n",
    "        pattern = f.strip()\n",
    "        \n",
    "# Create a very tall matrix as our tetris board\n",
    "matrix = np.zeros((10000000, 7))\n",
    "height_so_far = -1\n",
    "current_pattern_index = 0\n",
    "tmp = 1\n",
    "height_tmp = -1\n",
    "\n",
    "for current_round in tqdm_notebook(range(1, 3601)):\n",
    "#     print(current_pattern_index)\n",
    "#     print(f'Starting round {current_round}')\n",
    "#     print(f'Height so far: {height_so_far}')\n",
    "    if current_round % 5 == 1:\n",
    "        cells = [[height_so_far + 4, 2], \n",
    "                 [height_so_far + 4, 3],\n",
    "                 [height_so_far + 4, 4], \n",
    "                 [height_so_far + 4, 5]\n",
    "                ]\n",
    "    elif current_round % 5 == 2:\n",
    "        cells = [\n",
    "            [height_so_far + 6, 3],\n",
    "            [height_so_far + 5, 2],\n",
    "            [height_so_far + 5, 3],\n",
    "            [height_so_far + 5, 4],\n",
    "            [height_so_far + 4, 3],\n",
    "                ]\n",
    "    elif current_round % 5 == 3:\n",
    "        cells = [\n",
    "            [height_so_far + 6, 4],\n",
    "            [height_so_far + 5, 4],\n",
    "            [height_so_far + 4, 4],\n",
    "            [height_so_far + 4, 3],\n",
    "            [height_so_far + 4, 2],\n",
    "                ]\n",
    "    elif current_round % 5 == 4:\n",
    "        cells = [\n",
    "            [height_so_far + 7, 2],\n",
    "            [height_so_far + 6, 2],\n",
    "            [height_so_far + 5, 2],\n",
    "            [height_so_far + 4, 2],\n",
    "                ]\n",
    "    elif current_round % 5 == 0:\n",
    "        cells = [\n",
    "            [height_so_far + 5, 3],\n",
    "            [height_so_far + 5, 2],\n",
    "            [height_so_far + 4, 3],\n",
    "            [height_so_far + 4, 2],\n",
    "                ]\n",
    "        \n",
    "    still_falling = True\n",
    "    \n",
    "    while still_falling:\n",
    "        p = pattern[current_pattern_index]\n",
    "#         if current_pattern_index == 0:\n",
    "#             print(f'Pattern 0 encountered at {current_round}, diff: {current_round - tmp}')\n",
    "#             print(f'Height change: {height_so_far - height_tmp}')\n",
    "#             tmp = current_round\n",
    "#             height_tmp = height_so_far\n",
    "#         print(f'Using pattern {current_pattern_index}')\n",
    "        current_pattern_index += 1\n",
    "        if current_pattern_index >= len(pattern):\n",
    "            current_pattern_index = 0\n",
    "            \n",
    "#         print(cells)\n",
    "        if p == '>':\n",
    "            move = 1\n",
    "        else:\n",
    "            move = -1\n",
    "        move_possible = True\n",
    "        for cell in cells:\n",
    "            if cell[1] + move < 0 or cell[1] + move > 6:\n",
    "                move_possible = False\n",
    "                continue\n",
    "            if matrix[cell[0], cell[1] + move] == 1:\n",
    "                move_possible = False\n",
    "        if move_possible:\n",
    "            for cell_number, cell in enumerate(cells):\n",
    "                cells[cell_number] = [cell[0], cell[1] + move]\n",
    "        down_possible = True\n",
    "        for cell in cells:\n",
    "            if cell[0] - 1 < 0:\n",
    "                down_possible = False\n",
    "                continue\n",
    "            if matrix[cell[0] - 1, cell[1]] == 1:\n",
    "                down_possible = False\n",
    "        if not down_possible:\n",
    "            for cell in cells:\n",
    "                matrix[cell[0], cell[1]] = 1\n",
    "#                 print(f'Settling at {cell[0]}, {cell[1]}')\n",
    "            still_falling = False\n",
    "            highest_cell = max([cell[0] for cell in cells])\n",
    "            height_so_far = max(height_so_far, highest_cell)\n",
    "        else:\n",
    "            for cell_number, cell in enumerate(cells):\n",
    "                cells[cell_number] = [cell[0] - 1, cell[1]]\n",
    "                \n",
    "    if (current_round-1724) % 1730 == 0:\n",
    "        print(f'Height after {current_round} rounds: {height_so_far + 1}, diff: {height_so_far + 1 - tmp}')\n",
    "        print(f'Pattern: {current_pattern_index}')\n",
    "        tmp = height_so_far + 1\n",
    "print(height_so_far)"
   ]
  },
  {
   "cell_type": "code",
   "execution_count": 158,
   "id": "46826a39",
   "metadata": {},
   "outputs": [
    {
     "data": {
      "text/plain": [
       "3574"
      ]
     },
     "execution_count": 158,
     "metadata": {},
     "output_type": "execute_result"
    }
   ],
   "source": [
    "current_round"
   ]
  },
  {
   "cell_type": "code",
   "execution_count": 164,
   "id": "22f1de9c",
   "metadata": {},
   "outputs": [
    {
     "data": {
      "text/plain": [
       "146.0"
      ]
     },
     "execution_count": 164,
     "metadata": {},
     "output_type": "execute_result"
    }
   ],
   "source": [
    "repeats = (1e12 - 1724) // 1730\n",
    "remainder = (1e12 - 1724) % 1730\n",
    "\n",
    "remainder\n",
    "# repeats * 424 + 6 + 177\n",
    "# 280 Every we get 424"
   ]
  },
  {
   "cell_type": "code",
   "execution_count": 167,
   "id": "401f86dc",
   "metadata": {},
   "outputs": [
    {
     "data": {
      "text/plain": [
       "1530057803452.0"
      ]
     },
     "execution_count": 167,
     "metadata": {},
     "output_type": "execute_result"
    }
   ],
   "source": [
    "repeats * 2647 + 2619 + (5492 - 5266)"
   ]
  },
  {
   "cell_type": "code",
   "execution_count": 161,
   "id": "f359e1a1",
   "metadata": {},
   "outputs": [],
   "source": [
    "# 5266  after 3454 rounds, how many after 3600 rounds?"
   ]
  },
  {
   "cell_type": "code",
   "execution_count": 165,
   "id": "0630734d",
   "metadata": {},
   "outputs": [
    {
     "data": {
      "text/plain": [
       "3600"
      ]
     },
     "execution_count": 165,
     "metadata": {},
     "output_type": "execute_result"
    }
   ],
   "source": [
    "3454 + 146"
   ]
  },
  {
   "cell_type": "code",
   "execution_count": null,
   "id": "397ad6ab",
   "metadata": {},
   "outputs": [],
   "source": []
  }
 ],
 "metadata": {
  "kernelspec": {
   "display_name": "Python 3 (ipykernel)",
   "language": "python",
   "name": "python3"
  },
  "language_info": {
   "codemirror_mode": {
    "name": "ipython",
    "version": 3
   },
   "file_extension": ".py",
   "mimetype": "text/x-python",
   "name": "python",
   "nbconvert_exporter": "python",
   "pygments_lexer": "ipython3",
   "version": "3.9.12"
  }
 },
 "nbformat": 4,
 "nbformat_minor": 5
}
