{
 "cells": [
  {
   "cell_type": "code",
   "execution_count": 26,
   "id": "463041a7",
   "metadata": {},
   "outputs": [
    {
     "name": "stdout",
     "output_type": "stream",
     "text": [
      "{1: ['H', 'F'], 2: ['N', 'Q', 'J', 'W'], 3: ['C', 'R', 'T', 'F', 'C', 'N', 'S'], 4: ['S', 'H'], 5: ['B', 'W', 'Z', 'D', 'S', 'T', 'P', 'L', 'S'], 6: ['W', 'M', 'B', 'P'], 7: ['B', 'W', 'N', 'J'], 8: ['C', 'G', 'L', 'J', 'H', 'V', 'S', 'G', 'B', 'T', 'W', 'C', 'G', 'B', 'P', 'L', 'P', 'F', 'W', 'F', 'W'], 9: ['F', 'G', 'M']}\n",
      "FWSHSPJWM\n"
     ]
    }
   ],
   "source": [
    "d = {\n",
    "    1: ['S', 'Z', 'P', 'D', 'L', 'B', 'F', 'C'],\n",
    "    2: ['N', 'V', 'G', 'P', 'H', 'W', 'B'],\n",
    "    3: ['F', 'W', 'B', 'J', 'G'],\n",
    "    4: ['G', 'J', 'N' ,'F', 'L', 'W' ,'C', 'S'],\n",
    "    5: ['W', 'J', 'L', 'T', 'P', 'M', 'S', 'H'],\n",
    "    6: ['B', 'C', 'W', 'G', 'F', 'S'],\n",
    "    7: ['H', 'T', 'P' ,'M', 'Q', 'B', 'W'],\n",
    "    8: ['F', 'S', 'W', 'T'],\n",
    "    9: ['N', 'C', 'R']\n",
    "}\n",
    "\n",
    "with open('input.txt') as file:\n",
    "    for f in file:\n",
    "        if (~f[0].isspace()) & (f[0] != '['):\n",
    "#             print(f)\n",
    "            li = f.split()\n",
    "#             print(li)\n",
    "            li = f.split()\n",
    "            steps = int(li[1])\n",
    "            origin = int(li[3])\n",
    "            destination = int(li[5])\n",
    "            \n",
    "            for i in range(steps):\n",
    "                if len(d[origin]) > 0:\n",
    "                    d[destination].append(d[origin].pop())\n",
    "#             print(d)\n",
    "    answer = \"\"\n",
    "    print(d)\n",
    "    for l in d.values():\n",
    "        answer += l[-1]\n",
    "    print(answer)"
   ]
  },
  {
   "cell_type": "code",
   "execution_count": 32,
   "id": "dd3c5087",
   "metadata": {},
   "outputs": [
    {
     "name": "stdout",
     "output_type": "stream",
     "text": [
      "{1: ['L', 'P'], 2: ['T', 'W', 'F', 'W'], 3: ['S', 'S', 'B', 'C', 'B', 'N', 'P'], 4: ['B', 'W'], 5: ['W', 'W', 'J', 'F', 'F', 'J', 'P', 'L', 'H'], 6: ['F', 'T', 'C', 'G'], 7: ['N', 'J', 'S', 'F'], 8: ['C', 'H', 'Q', 'R', 'B', 'V', 'G', 'T', 'G', 'W', 'P', 'S', 'H', 'D', 'M', 'N', 'B', 'G', 'W', 'L', 'Z'], 9: ['C', 'M', 'S']}\n",
      "PWPWHGFZS\n"
     ]
    }
   ],
   "source": [
    "d = {\n",
    "    1: ['S', 'Z', 'P', 'D', 'L', 'B', 'F', 'C'],\n",
    "    2: ['N', 'V', 'G', 'P', 'H', 'W', 'B'],\n",
    "    3: ['F', 'W', 'B', 'J', 'G'],\n",
    "    4: ['G', 'J', 'N' ,'F', 'L', 'W' ,'C', 'S'],\n",
    "    5: ['W', 'J', 'L', 'T', 'P', 'M', 'S', 'H'],\n",
    "    6: ['B', 'C', 'W', 'G', 'F', 'S'],\n",
    "    7: ['H', 'T', 'P' ,'M', 'Q', 'B', 'W'],\n",
    "    8: ['F', 'S', 'W', 'T'],\n",
    "    9: ['N', 'C', 'R']\n",
    "}\n",
    "\n",
    "with open('input.txt') as file:\n",
    "    for f in file:\n",
    "        if (~f[0].isspace()) & (f[0] != '['):\n",
    "            li = f.split()\n",
    "            steps = int(li[1])\n",
    "            origin = int(li[3])\n",
    "            destination = int(li[5])\n",
    "            tmp_stack = []\n",
    "            for i in range(steps):\n",
    "                if len(d[origin]) > 0:\n",
    "                    tmp_stack.append(d[origin].pop())\n",
    "            while len(tmp_stack) > 0:\n",
    "                d[destination].append(tmp_stack.pop())\n",
    "    answer = \"\"\n",
    "    print(d)\n",
    "    for l in d.values():\n",
    "        answer += l[-1]\n",
    "    print(answer)"
   ]
  },
  {
   "cell_type": "code",
   "execution_count": 31,
   "id": "cedfa585",
   "metadata": {},
   "outputs": [
    {
     "name": "stdout",
     "output_type": "stream",
     "text": [
      "None\n",
      "[2, 3]\n"
     ]
    }
   ],
   "source": [
    "li = [1,2,3]\n",
    "tmp = li.remove(li[0])\n",
    "print(tmp)\n",
    "print(li)"
   ]
  },
  {
   "cell_type": "code",
   "execution_count": null,
   "id": "91620445",
   "metadata": {},
   "outputs": [],
   "source": []
  }
 ],
 "metadata": {
  "kernelspec": {
   "display_name": "Python 3 (ipykernel)",
   "language": "python",
   "name": "python3"
  },
  "language_info": {
   "codemirror_mode": {
    "name": "ipython",
    "version": 3
   },
   "file_extension": ".py",
   "mimetype": "text/x-python",
   "name": "python",
   "nbconvert_exporter": "python",
   "pygments_lexer": "ipython3",
   "version": "3.9.12"
  }
 },
 "nbformat": 4,
 "nbformat_minor": 5
}
