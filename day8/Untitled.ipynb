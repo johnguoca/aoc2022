{
 "cells": [
  {
   "cell_type": "code",
   "execution_count": 5,
   "id": "cd5ccdb4",
   "metadata": {},
   "outputs": [],
   "source": [
    "import numpy as np"
   ]
  },
  {
   "cell_type": "code",
   "execution_count": 79,
   "id": "6f737dd8",
   "metadata": {},
   "outputs": [
    {
     "name": "stdout",
     "output_type": "stream",
     "text": [
      "[[1. 1. 1. ... 1. 1. 1.]\n",
      " [1. 0. 0. ... 0. 1. 1.]\n",
      " [1. 0. 0. ... 1. 1. 1.]\n",
      " ...\n",
      " [1. 0. 1. ... 1. 1. 1.]\n",
      " [1. 0. 0. ... 0. 1. 1.]\n",
      " [1. 1. 1. ... 1. 1. 1.]]\n",
      "1543.0\n"
     ]
    }
   ],
   "source": [
    "# Left and right, simply check greedily when we get to the row\n",
    "\n",
    "visibility_grid = []\n",
    "tallest_in_column_so_far = []\n",
    "rows = []\n",
    "\n",
    "\n",
    "with open('input.txt') as file:\n",
    "    current_row = -1\n",
    "    # Just store everything in a matrix and then solve it...\n",
    "    for f in file:\n",
    "        current_row += 1\n",
    "        row_values = [int(i) for i in f.strip()]\n",
    "        rows.append(row_values)\n",
    "        \n",
    "    visibility_grid = np.zeros((current_row + 1, len(row_values)))\n",
    "    \n",
    "    \n",
    "    for row_num, row_vals in enumerate(rows):\n",
    "        largest_so_far = -1\n",
    "        for col_num, col_val in enumerate(row_vals):\n",
    "            if col_val > largest_so_far:\n",
    "                visibility_grid[row_num, col_num] = 1\n",
    "                largest_so_far = col_val\n",
    "                \n",
    "    for row_num, row_vals in enumerate(rows):\n",
    "        largest_so_far = -1\n",
    "        for col_num in range(len(row_vals) -1, -1, -1):\n",
    "            col_val = row_vals[col_num]\n",
    "            if col_val > largest_so_far:\n",
    "                visibility_grid[row_num, col_num] = 1\n",
    "                largest_so_far = col_val\n",
    "                \n",
    "    for col_num in range(len(f.strip())):\n",
    "        largest_so_far = -1\n",
    "        for row_num in range(len(rows)):\n",
    "            col_val = rows[row_num][col_num]\n",
    "            if col_val > largest_so_far:\n",
    "                visibility_grid[row_num, col_num] = 1\n",
    "                largest_so_far = col_val\n",
    "                \n",
    "    for col_num in range(len(f.strip())):\n",
    "        largest_so_far = -1\n",
    "        for row_num in range(len(rows) -1, -1, -1):\n",
    "            col_val = rows[row_num][col_num]\n",
    "            if col_val > largest_so_far:\n",
    "                visibility_grid[row_num, col_num] = 1\n",
    "                largest_so_far = col_val\n",
    "        \n",
    "print(visibility_grid)\n",
    "# For seeing from the top: keep a list of the tallest encountered in each column - if taller than current, then it is now visible\n",
    "\n",
    "total_visible = np.sum(visibility_grid)\n",
    "print(total_visible)"
   ]
  },
  {
   "cell_type": "code",
   "execution_count": 99,
   "id": "ca3c07de",
   "metadata": {},
   "outputs": [
    {
     "name": "stdout",
     "output_type": "stream",
     "text": [
      "[[ 6.  4.  3. ...  4.  5.  1.]\n",
      " [ 3.  1.  4. ...  1.  3. 45.]\n",
      " [48. 12.  1. ...  6.  4.  2.]\n",
      " ...\n",
      " [ 2.  4.  2. ...  4.  4.  1.]\n",
      " [ 1.  2.  1. ...  1.  3.  1.]\n",
      " [ 2.  4.  2. ...  1.  1. 20.]]\n",
      "595080.0\n",
      "595080.0\n"
     ]
    }
   ],
   "source": [
    "# Left and right, simply check greedily when we get to the row\n",
    "\n",
    "visibility_grid = []\n",
    "tallest_in_column_so_far = []\n",
    "rows = []\n",
    "\n",
    "\n",
    "with open('input.txt') as file:\n",
    "    current_row = -1\n",
    "    # Just store everything in a matrix and then solve it...\n",
    "    for f in file:\n",
    "        current_row += 1\n",
    "        row_values = [int(i) for i in f.strip()]\n",
    "        rows.append(row_values)\n",
    "        \n",
    "    scenic_scores = np.ones((current_row + 1, len(row_values)))\n",
    "    for row_num, row_vals in enumerate(rows):\n",
    "        # Create a dict to store the how far each height of tree can see\n",
    "        far_dict = {i: 0 for i in range(0,10)}\n",
    "        for col_num in range(1, len(row_vals)):\n",
    "            col_val = row_vals[col_num]\n",
    "            can_see_to = far_dict[col_val]\n",
    "            dist = col_num - can_see_to\n",
    "            scenic_scores[row_num][col_num] *= dist\n",
    "            for i in range(0, col_val + 1):\n",
    "                far_dict[i] = col_num\n",
    "                \n",
    "    for row_num, row_vals in enumerate(rows):\n",
    "        far_dict = {i: len(row_vals) - 1 for i in range(0,10)}\n",
    "        for col_num in range(len(row_vals) -2, -1, -1):\n",
    "            col_val = row_vals[col_num]\n",
    "            can_see_to = far_dict[col_val]\n",
    "            dist = can_see_to - col_num\n",
    "            scenic_scores[row_num][col_num] *= dist\n",
    "            for i in range(0, col_val + 1):\n",
    "                far_dict[i] = col_num\n",
    "    \n",
    "    for col_num in range(len(f.strip())):\n",
    "        far_dict = {i: 0 for i in range(0,10)}\n",
    "        for row_num in range(1, len(rows)):\n",
    "            col_val = rows[row_num][col_num]\n",
    "            can_see_to = far_dict[col_val]\n",
    "            dist = row_num - can_see_to\n",
    "            scenic_scores[row_num][col_num] *= dist\n",
    "            for i in range(0, col_val + 1):\n",
    "                far_dict[i] = row_num\n",
    "                \n",
    "\n",
    "    for col_num in range(len(f.strip())):\n",
    "        far_dict = {i: len(rows) - 1 for i in range(0,10)}\n",
    "        for row_num in range(len(rows) -2, -1, -1):\n",
    "            col_val = rows[row_num][col_num]\n",
    "            can_see_to = far_dict[col_val]\n",
    "            dist = can_see_to - row_num\n",
    "            scenic_scores[row_num][col_num] *= dist\n",
    "            for i in range(0, col_val + 1):\n",
    "                far_dict[i] = row_num\n",
    "        \n",
    "\n",
    "print(scenic_scores)\n",
    "print(np.max(scenic_scores))\n",
    "print(np.max([i[1:-1] for i in scenic_scores[1:-1]]))"
   ]
  },
  {
   "cell_type": "code",
   "execution_count": 97,
   "id": "98d4a455",
   "metadata": {},
   "outputs": [
    {
     "data": {
      "text/plain": [
       "8.0"
      ]
     },
     "execution_count": 97,
     "metadata": {},
     "output_type": "execute_result"
    }
   ],
   "source": [
    "np.max([i[1:-1] for i in scenic_scores[1:-1]])"
   ]
  },
  {
   "cell_type": "code",
   "execution_count": null,
   "id": "0e37bb82",
   "metadata": {},
   "outputs": [],
   "source": []
  }
 ],
 "metadata": {
  "kernelspec": {
   "display_name": "Python 3 (ipykernel)",
   "language": "python",
   "name": "python3"
  },
  "language_info": {
   "codemirror_mode": {
    "name": "ipython",
    "version": 3
   },
   "file_extension": ".py",
   "mimetype": "text/x-python",
   "name": "python",
   "nbconvert_exporter": "python",
   "pygments_lexer": "ipython3",
   "version": "3.9.12"
  }
 },
 "nbformat": 4,
 "nbformat_minor": 5
}
