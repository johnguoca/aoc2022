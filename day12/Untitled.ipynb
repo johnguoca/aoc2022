{
 "cells": [
  {
   "cell_type": "code",
   "execution_count": 92,
   "id": "8db5bf6c",
   "metadata": {},
   "outputs": [
    {
     "name": "stdout",
     "output_type": "stream",
     "text": [
      "E HERE\n",
      "20\n",
      "137\n",
      "E FOUND IN 437 steps\n"
     ]
    }
   ],
   "source": [
    "matrix = []\n",
    "\n",
    "\n",
    "\n",
    "\n",
    "def add_letter_if_meets_criteria(x_coord, y_coord, candidates, current_distance, current_letter):\n",
    "    letter = matrix[x_coord][y_coord]\n",
    "    dist_from_E = - (abs(x_coord - 137) ** 2 + abs(y_coord - 20))\n",
    "    node = (letter, x_coord, y_coord, current_distance + 1, dist_from_E)\n",
    "    if ((ord(letter) - ord(current_letter) < 2) | (current_letter == 'S')) & ((x_coord, y_coord) not in already_visited) & (letter != 'E'):\n",
    "        candidates.append(node)\n",
    "        already_visited.append((x_coord, y_coord))\n",
    "    return node\n",
    "    \n",
    "with open('input.txt') as file:\n",
    "    for row, f in enumerate(file):\n",
    "        matrix.append(list(f.strip()))\n",
    "        if 'E' in f.strip():\n",
    "            print('E HERE')\n",
    "            print(row)\n",
    "            print(f.strip().index('E'))\n",
    "        if 'S' in f.strip():\n",
    "            start = (('S', int(row), f.strip().index('S'), 0))\n",
    "\n",
    " # Letter, x, y, distance so far\n",
    "backlog = [start]\n",
    "already_visited = [(start[1], start[2])]\n",
    "        \n",
    "# print(matrix)\n",
    "# Start at s and check in each direction\n",
    "while True:\n",
    "    current_node = backlog.pop(0)\n",
    "    current_letter = current_node[0]\n",
    "    current_x = current_node[1]\n",
    "    current_y = current_node[2]\n",
    "    current_distance = current_node[3]\n",
    "    \n",
    "#     print(f'Exploring {current_letter} at ({current_x}, {current_y})')\n",
    "    \n",
    "#     already_visited.append((current_x, current_y))\n",
    "\n",
    "    candidates = []\n",
    "    # Check in each direction - add to candidates \n",
    "    if current_x > 0:\n",
    "        node = add_letter_if_meets_criteria(current_x - 1, current_y, candidates, current_distance, current_letter)\n",
    "        if node[0] == 'E' and current_letter == 'z':\n",
    "            print(f'E FOUND IN {current_distance + 1} steps')\n",
    "            break\n",
    "    if current_x < len(matrix) - 1:\n",
    "        node = add_letter_if_meets_criteria(current_x + 1, current_y, candidates, current_distance, current_letter)\n",
    "        if node[0] == 'E' and current_letter == 'z':\n",
    "            print(f'E FOUND IN {current_distance + 1} steps')\n",
    "            break\n",
    "    if current_y > 0:\n",
    "        node = add_letter_if_meets_criteria(current_x, current_y - 1, candidates, current_distance, current_letter)\n",
    "        if node[0] == 'E' and current_letter == 'z':\n",
    "            print(f'E FOUND IN {current_distance + 1} steps')\n",
    "            break\n",
    "    if current_y < len(f.strip()) - 1:\n",
    "        node = add_letter_if_meets_criteria(current_x, current_y + 1, candidates, current_distance, current_letter)\n",
    "        if node[0] == 'E' and current_letter == 'z':\n",
    "            print(f'E FOUND IN {current_distance + 1} steps')\n",
    "            break\n",
    "    \n",
    "    backlog.extend(candidates)\n",
    "    \n"
   ]
  },
  {
   "cell_type": "code",
   "execution_count": null,
   "id": "8230bc24",
   "metadata": {},
   "outputs": [],
   "source": []
  },
  {
   "cell_type": "code",
   "execution_count": 94,
   "id": "9f83e0d5",
   "metadata": {},
   "outputs": [
    {
     "data": {
      "text/plain": [
       "<matplotlib.image.AxesImage at 0x11d00f2e0>"
      ]
     },
     "execution_count": 94,
     "metadata": {},
     "output_type": "execute_result"
    },
    {
     "data": {
      "image/png": "[encoded data removed]",
      "text/plain": [
       "<Figure size 1080x576 with 1 Axes>"
      ]
     },
     "metadata": {
      "needs_background": "light"
     },
     "output_type": "display_data"
    }
   ],
   "source": [
    "import matplotlib.pyplot as plt\n",
    "import numpy as np\n",
    "\n",
    "a = np.zeros(np.array(matrix).shape)\n",
    "for idx, i in enumerate(already_visited):\n",
    "    a[i] = idx\n",
    "# print(a)\n",
    "plt.figure(figsize=(15,8))\n",
    "plt.imshow(a, cmap='hot', interpolation='nearest')\n"
   ]
  },
  {
   "cell_type": "markdown",
   "id": "3739f9b8",
   "metadata": {},
   "source": [
    "## Part 2"
   ]
  },
  {
   "cell_type": "code",
   "execution_count": 109,
   "id": "f0be1a63",
   "metadata": {},
   "outputs": [
    {
     "name": "stdout",
     "output_type": "stream",
     "text": [
      "[('E', 20, 137, 0)]\n",
      "a FOUND IN 430 steps\n"
     ]
    }
   ],
   "source": [
    "matrix = []\n",
    "\n",
    "\n",
    "\n",
    "\n",
    "def add_letter_if_meets_criteria(x_coord, y_coord, candidates, current_distance, current_letter):\n",
    "    letter = matrix[x_coord][y_coord]\n",
    "    dist_from_E = - (abs(x_coord - 137) ** 2 + abs(y_coord - 20))\n",
    "    node = (letter, x_coord, y_coord, current_distance + 1, dist_from_E)\n",
    "#     print(node)\n",
    "#     print((ord(letter) - ord(current_letter) > -1))\n",
    "#     print(((current_letter == 'E') & (letter == 'z')))\n",
    "    if (((ord(letter) - ord(current_letter) >= -1) & (current_letter != 'E')) & ((x_coord, y_coord) not in already_visited) & (letter != 'S')) | ((current_letter == \"E\") & (letter == 'z')):\n",
    "        candidates.append(node)\n",
    "        already_visited.append((x_coord, y_coord))\n",
    "    return node\n",
    "    \n",
    "with open('input.txt') as file:\n",
    "    for row, f in enumerate(file):\n",
    "        matrix.append(list(f.strip()))\n",
    "        if 'E' in f.strip():\n",
    "            start = (('E', int(row), f.strip().index('E'), 0))\n",
    "\n",
    " # Letter, x, y, distance so far\n",
    "backlog = [start]\n",
    "already_visited = [(start[1], start[2])]\n",
    "        \n",
    "    \n",
    "print(backlog)\n",
    "# print(matrix)\n",
    "# Start at s and check in each direction\n",
    "while True:\n",
    "    current_node = backlog.pop(0)\n",
    "    current_letter = current_node[0]\n",
    "    current_x = current_node[1]\n",
    "    current_y = current_node[2]\n",
    "    current_distance = current_node[3]\n",
    "    \n",
    "#     print(f'Exploring {current_letter} at ({current_x}, {current_y})')\n",
    "    \n",
    "#     already_visited.append((current_x, current_y))\n",
    "\n",
    "    candidates = []\n",
    "    # Check in each direction - add to candidates \n",
    "    if current_x > 0:\n",
    "        node = add_letter_if_meets_criteria(current_x - 1, current_y, candidates, current_distance, current_letter)\n",
    "        if node[0] == 'a' and current_letter == 'b':\n",
    "            print(f'a FOUND IN {current_distance + 1} steps')\n",
    "            break\n",
    "    if current_x < len(matrix) - 1:\n",
    "        node = add_letter_if_meets_criteria(current_x + 1, current_y, candidates, current_distance, current_letter)\n",
    "        if node[0] == 'a' and current_letter == 'b':\n",
    "            print(f'a FOUND IN {current_distance + 1} steps')\n",
    "            break\n",
    "    if current_y > 0:\n",
    "        node = add_letter_if_meets_criteria(current_x, current_y - 1, candidates, current_distance, current_letter)\n",
    "        if node[0] == 'a' and current_letter == 'b':\n",
    "            print(f'a FOUND IN {current_distance + 1} steps')\n",
    "            break\n",
    "    if current_y < len(f.strip()) - 1:\n",
    "        node = add_letter_if_meets_criteria(current_x, current_y + 1, candidates, current_distance, current_letter)\n",
    "        if node[0] == 'a' and current_letter == 'b':\n",
    "            print(f'a FOUND IN {current_distance + 1} steps')\n",
    "            break\n",
    "    \n",
    "#     candidates = sorted(candidates, key = lambda x: (x[0]))\n",
    "    \n",
    "    backlog.extend(candidates)\n",
    "    \n",
    "#     print(backlog[-3:])"
   ]
  },
  {
   "cell_type": "code",
   "execution_count": null,
   "id": "7756c4e6",
   "metadata": {},
   "outputs": [],
   "source": []
  }
 ],
 "metadata": {
  "kernelspec": {
   "display_name": "Python 3 (ipykernel)",
   "language": "python",
   "name": "python3"
  },
  "language_info": {
   "codemirror_mode": {
    "name": "ipython",
    "version": 3
   },
   "file_extension": ".py",
   "mimetype": "text/x-python",
   "name": "python",
   "nbconvert_exporter": "python",
   "pygments_lexer": "ipython3",
   "version": "3.9.12"
  }
 },
 "nbformat": 4,
 "nbformat_minor": 5
}
