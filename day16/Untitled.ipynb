{
 "cells": [
  {
   "cell_type": "code",
   "execution_count": 2,
   "id": "62e5325c",
   "metadata": {},
   "outputs": [],
   "source": [
    "from tqdm import tqdm_notebook"
   ]
  },
  {
   "cell_type": "code",
   "execution_count": 59,
   "id": "37529dc6",
   "metadata": {},
   "outputs": [
    {
     "name": "stdout",
     "output_type": "stream",
     "text": [
      "Entering this loop\n"
     ]
    },
    {
     "name": "stderr",
     "output_type": "stream",
     "text": [
      "/var/folders/d5/f5qxbxd93vg0sqk_wkcp0g0h0000gn/T/ipykernel_49640/3610250.py:133: TqdmDeprecationWarning: This function will be removed in tqdm==5.0.0\n",
      "Please use `tqdm.notebook.tqdm` instead of `tqdm.tqdm_notebook`\n",
      "  for me_path, ele_path, pressure in tqdm_notebook(best_paths_so_far):\n"
     ]
    },
    {
     "data": {
      "application/vnd.jupyter.widget-view+json": {
       "model_id": "1eea3b9c8e864950b7a3689158536d28",
       "version_major": 2,
       "version_minor": 0
      },
      "text/plain": [
       "  0%|          | 0/210 [00:00<?, ?it/s]"
      ]
     },
     "metadata": {},
     "output_type": "display_data"
    },
    {
     "name": "stdout",
     "output_type": "stream",
     "text": [
      "Entering this loop\n"
     ]
    },
    {
     "data": {
      "application/vnd.jupyter.widget-view+json": {
       "model_id": "bdeb68ff66f841a0bb458d79da0bd4b2",
       "version_major": 2,
       "version_minor": 0
      },
      "text/plain": [
       "  0%|          | 0/4000 [00:00<?, ?it/s]"
      ]
     },
     "metadata": {},
     "output_type": "display_data"
    },
    {
     "name": "stdout",
     "output_type": "stream",
     "text": [
      "Entering this loop\n"
     ]
    },
    {
     "data": {
      "application/vnd.jupyter.widget-view+json": {
       "model_id": "dbcf34b0d64b48d08f301e20e69e9ed9",
       "version_major": 2,
       "version_minor": 0
      },
      "text/plain": [
       "  0%|          | 0/4000 [00:00<?, ?it/s]"
      ]
     },
     "metadata": {},
     "output_type": "display_data"
    },
    {
     "name": "stdout",
     "output_type": "stream",
     "text": [
      "Entering this loop\n"
     ]
    },
    {
     "data": {
      "application/vnd.jupyter.widget-view+json": {
       "model_id": "19f0266b6b4a452289b72198887e30db",
       "version_major": 2,
       "version_minor": 0
      },
      "text/plain": [
       "  0%|          | 0/4000 [00:00<?, ?it/s]"
      ]
     },
     "metadata": {},
     "output_type": "display_data"
    },
    {
     "name": "stdout",
     "output_type": "stream",
     "text": [
      "Entering this loop\n"
     ]
    },
    {
     "data": {
      "application/vnd.jupyter.widget-view+json": {
       "model_id": "70a491f79e854990bb86fb8435070720",
       "version_major": 2,
       "version_minor": 0
      },
      "text/plain": [
       "  0%|          | 0/4000 [00:00<?, ?it/s]"
      ]
     },
     "metadata": {},
     "output_type": "display_data"
    },
    {
     "name": "stdout",
     "output_type": "stream",
     "text": [
      "Entering this loop\n"
     ]
    },
    {
     "data": {
      "application/vnd.jupyter.widget-view+json": {
       "model_id": "60a8a8984d6a41db88dbff15431b73b8",
       "version_major": 2,
       "version_minor": 0
      },
      "text/plain": [
       "  0%|          | 0/4000 [00:00<?, ?it/s]"
      ]
     },
     "metadata": {},
     "output_type": "display_data"
    },
    {
     "name": "stdout",
     "output_type": "stream",
     "text": [
      "Entering this loop\n"
     ]
    },
    {
     "data": {
      "application/vnd.jupyter.widget-view+json": {
       "model_id": "98070c51facc4e46aadaedb5e8b460c5",
       "version_major": 2,
       "version_minor": 0
      },
      "text/plain": [
       "  0%|          | 0/4000 [00:00<?, ?it/s]"
      ]
     },
     "metadata": {},
     "output_type": "display_data"
    },
    {
     "name": "stdout",
     "output_type": "stream",
     "text": [
      "Entering this loop\n"
     ]
    },
    {
     "data": {
      "application/vnd.jupyter.widget-view+json": {
       "model_id": "f6c1af569551418f907358a5f93aaaba",
       "version_major": 2,
       "version_minor": 0
      },
      "text/plain": [
       "  0%|          | 0/4000 [00:00<?, ?it/s]"
      ]
     },
     "metadata": {},
     "output_type": "display_data"
    },
    {
     "name": "stdout",
     "output_type": "stream",
     "text": [
      "Entering this loop\n"
     ]
    },
    {
     "data": {
      "application/vnd.jupyter.widget-view+json": {
       "model_id": "ec10a2f5921b49f08f56ecc3b2829e6a",
       "version_major": 2,
       "version_minor": 0
      },
      "text/plain": [
       "  0%|          | 0/4000 [00:00<?, ?it/s]"
      ]
     },
     "metadata": {},
     "output_type": "display_data"
    },
    {
     "name": "stdout",
     "output_type": "stream",
     "text": [
      "Entering this loop\n"
     ]
    },
    {
     "data": {
      "application/vnd.jupyter.widget-view+json": {
       "model_id": "192b9f1f259f42c8b69cf8cbdc6f29c2",
       "version_major": 2,
       "version_minor": 0
      },
      "text/plain": [
       "  0%|          | 0/4000 [00:00<?, ?it/s]"
      ]
     },
     "metadata": {},
     "output_type": "display_data"
    },
    {
     "name": "stdout",
     "output_type": "stream",
     "text": [
      "Entering this loop\n"
     ]
    },
    {
     "data": {
      "application/vnd.jupyter.widget-view+json": {
       "model_id": "f149db48a08f45aabb1e308585b74532",
       "version_major": 2,
       "version_minor": 0
      },
      "text/plain": [
       "  0%|          | 0/1449 [00:00<?, ?it/s]"
      ]
     },
     "metadata": {},
     "output_type": "display_data"
    },
    {
     "name": "stdout",
     "output_type": "stream",
     "text": [
      "Entering this loop\n"
     ]
    },
    {
     "data": {
      "application/vnd.jupyter.widget-view+json": {
       "model_id": "4ba1c27a3eea4e698246452e3174bb47",
       "version_major": 2,
       "version_minor": 0
      },
      "text/plain": [
       "  0%|          | 0/264 [00:00<?, ?it/s]"
      ]
     },
     "metadata": {},
     "output_type": "display_data"
    },
    {
     "name": "stdout",
     "output_type": "stream",
     "text": [
      "(['YI', 'UA', 'AW', 'EL', 'OY', 'FL', 'EG'], ['OZ', 'FX', 'VA', 'GQ', 'TU', 'WW'], 2591)\n"
     ]
    }
   ],
   "source": [
    "from queue import Queue\n",
    "\n",
    "\n",
    "already_visited = []\n",
    "valve_maps = {}\n",
    "pressure_map = {}\n",
    "\n",
    "path_maps = {}\n",
    "\n",
    "with open('input.txt') as file:\n",
    "    for f in file:\n",
    "        current_valve = f.split()[1]\n",
    "        flow_rate = f.split()[4][5:-1]\n",
    "        other_valves = [i.strip(',') for i in f.split()[9:]]\n",
    "        all_valves = [current_valve] + other_valves\n",
    "\n",
    "        valve_maps[current_valve] = valve_maps.get(current_valve, []) + other_valves\n",
    "        for valve in other_valves:\n",
    "            valve_maps[valve] = valve_maps.get(valve, []) + [current_valve]\n",
    "        pressure_map[current_valve] = int(flow_rate)\n",
    "        \n",
    "for key, valve in valve_maps.items():\n",
    "    valve_maps[key] = set(valve)\n",
    "    \n",
    "def leastDistance(graph, source):\n",
    "    Q = Queue()\n",
    "    # create a dictionary with large distance(infinity) of each vertex from source\n",
    "    distance = {k: 9999999 for k in graph.keys()}\n",
    "    visited_vertices = set()\n",
    "    Q.put(source)\n",
    "    visited_vertices.update({0})\n",
    "    while not Q.empty():\n",
    "        vertex = Q.get()\n",
    "        if vertex == source:\n",
    "            distance[vertex] = 0\n",
    "        for u in graph[vertex]:\n",
    "            if u not in visited_vertices:\n",
    "                # update the distance\n",
    "                if distance[u] > distance[vertex] + 1:\n",
    "                    distance[u] = distance[vertex] + 1\n",
    "                Q.put(u)\n",
    "                visited_vertices.update({u})\n",
    "    return distance\n",
    "    \n",
    "def calculate_pressure_path(path, valves_map, pressure_map, current_time=30):\n",
    "    current_node = 'AA'\n",
    "    total_pressure = 0\n",
    "    for i in path:\n",
    "        map_from_here = leastDistance(valves_map, current_node)\n",
    "        current_time -= map_from_here[i] + 1\n",
    "        total_pressure += (current_time) * pressure_map[i]\n",
    "        current_node = i\n",
    "    return total_pressure, current_time\n",
    "\n",
    "# At any point, choose the top 3 choices, as defined by expected remaining value\n",
    "starting_node = 'AA'\n",
    "paths_so_far = []\n",
    "finalized_paths = []\n",
    "all_nodes = list(valve_maps.keys())\n",
    "pressure_nodes = [i for i in all_nodes if pressure_map[i] > 0]\n",
    "\n",
    "# while True:\n",
    "#     if len(paths_so_far) == 0:\n",
    "#         if len(finalized_paths) == 0:\n",
    "#             candidate_destinations = []\n",
    "#             for destination in [i for i in all_nodes if i != starting_node]:\n",
    "#                 new_path = [destination]\n",
    "#                 pressure, time = calculate_pressure_path(new_path, valve_maps, pressure_map)\n",
    "#                 candidate_destinations.append((destination, pressure))\n",
    "#             best_candidates = sorted(candidate_destinations, key = lambda x: x[1])[-100:]\n",
    "#             for candidate, pressure in best_candidates:\n",
    "#                 paths_so_far.append(([candidate], pressure))\n",
    "#         else:\n",
    "#             break\n",
    "#     else:\n",
    "#         new_paths_so_far = []\n",
    "#         best_paths_so_far = sorted(paths_so_far, key = lambda x: x[1])[-100:]\n",
    "#         for path, pressure in best_paths_so_far:\n",
    "#             current_node = path[-1]\n",
    "#             other_paths_possible = False\n",
    "#             candidate_destinations = []\n",
    "#             for destination in [i for i in all_nodes if i not in path]:\n",
    "#                 new_path = path + [destination]\n",
    "#                 pressure, time = calculate_pressure_path(new_path, valve_maps, pressure_map)\n",
    "#                 if time >= 0:\n",
    "#                     print(f'Adding new path {new_path}')\n",
    "#                     new_paths_so_far.append((new_path, pressure))\n",
    "#                     other_paths_possible = True                    \n",
    "#             if not other_paths_possible:\n",
    "#                 finalized_paths.append(path)\n",
    "#         paths_so_far = new_paths_so_far\n",
    "\n",
    "# highest_pressure = 0\n",
    "# for path in finalized_paths:\n",
    "#     pressure, time = calculate_pressure_path(path, valve_maps, pressure_map)\n",
    "#     if pressure > highest_pressure:\n",
    "#         highest_pressure = pressure\n",
    "#         print(f'Exceeded by path {path}')\n",
    "        \n",
    "# print(highest_pressure)\n",
    "\n",
    "paths_so_far = []\n",
    "\n",
    "while True:\n",
    "    if len(paths_so_far) == 0:\n",
    "        if len(finalized_paths) == 0:\n",
    "            candidate_destinations = []\n",
    "            for destination in [i for i in pressure_nodes if i != starting_node]:\n",
    "                new_path = [destination]\n",
    "                for ele_destination in [i for i in pressure_nodes if i not in [starting_node, destination]]:\n",
    "                    ele_path = [ele_destination]\n",
    "                    me_pressure, me_time = calculate_pressure_path(new_path, valve_maps, pressure_map, current_time=26)\n",
    "                    ele_pressure, ele_time = calculate_pressure_path(ele_path, valve_maps, pressure_map, current_time=26)\n",
    "                    total_pressure = me_pressure + ele_pressure\n",
    "                    paths_so_far.append((new_path, ele_path, total_pressure))\n",
    "#             print(paths_so_far)\n",
    "        else:\n",
    "            break\n",
    "    else:\n",
    "        print('Entering this loop')\n",
    "        new_paths_so_far = []\n",
    "        best_paths_so_far = sorted(paths_so_far, key = lambda x: x[2])\n",
    "#         print(best_paths_so_far)\n",
    "        \n",
    "        other_me_paths_possible = False\n",
    "        other_ele_paths_possible = False\n",
    "        prev_me_already_added = False\n",
    "        prev_ele_already_added = False\n",
    "        candidate_me_paths = []\n",
    "        candidate_ele_paths = []\n",
    "        candidate_solutions = []\n",
    "        \n",
    "        for me_path, ele_path, pressure in tqdm_notebook(best_paths_so_far):\n",
    "            other_paths_possible = False\n",
    "            for possible_destinations in [i for i in pressure_nodes if i not in me_path + ele_path]:\n",
    "                candidate_me_path = me_path + [possible_destinations]\n",
    "                candidate_ele_path = ele_path + [possible_destinations]\n",
    "                me_pressure, me_time = calculate_pressure_path(candidate_me_path, valve_maps, pressure_map, current_time=26)\n",
    "                ele_pressure, ele_time = calculate_pressure_path(candidate_ele_path, valve_maps, pressure_map, current_time=26)\n",
    "                \n",
    "                prev_me_pressure, prev_me_time = calculate_pressure_path(me_path, valve_maps, pressure_map, current_time=26)\n",
    "                prev_ele_pressure, prev_ele_time = calculate_pressure_path(ele_path, valve_maps, pressure_map, current_time=26)\n",
    "                \n",
    "                if me_time >= 0:\n",
    "                    candidate_me_paths.append((candidate_me_path, ele_path, me_pressure + prev_ele_pressure))\n",
    "                    other_paths_possible = True\n",
    "                \n",
    "                if ele_time >= 0:\n",
    "                    candidate_ele_paths.append((me_path, candidate_ele_path, prev_me_pressure + ele_pressure))\n",
    "                    other_paths_possible = True\n",
    "            if not other_paths_possible:\n",
    "                \n",
    "                finalized_paths.append((me_path, ele_path, pressure))\n",
    "        \n",
    "        paths_so_far = sorted(candidate_me_paths, key = lambda x: x[2])[-2000:] + sorted(candidate_ele_paths, key = lambda x: x[2])[-2000:]\n",
    "        \n",
    "#         if other_paths_possible:\n",
    "#             print('Other paths are possible')\n",
    "#             # Get the best me paths and ele paths\n",
    "#             best_me_paths = sorted(candidate_me_paths, key=lambda x: x[1])[-10:]\n",
    "#             best_ele_paths = sorted(candidate_ele_paths, key=lambda x: x[1])[-10:]\n",
    "            \n",
    "#             for me_path in best_me_paths:\n",
    "#                 for ele_path in best_ele_paths:\n",
    "#                     if set(me_path[0] + ele_path[0]) == me_path[0] + ele_path[0]:\n",
    "#                         new_paths_so_far.append((me_path[0], ele_path[0], me_path[1] + ele_path[1]))\n",
    "                        \n",
    "#             paths_so_far = new_paths_so_far\n",
    "            \n",
    "#         else:\n",
    "#             paths_so_far = []\n",
    "#             finalized_paths.append((me_path, ele_path, pressure))\n",
    "            \n",
    "                \n",
    "#             for me_destination in [i for i in all_nodes if i not in me_path + ele_path]:\n",
    "#                 for ele_destination in [i for i in all_nodes if i not in me_path + ele_path]:\n",
    "#                     if me_destination == ele_destination:\n",
    "#                         continue\n",
    "#                     candidate_me_path = me_path + [me_destination]\n",
    "#                     candidate_ele_path = ele_path + [ele_destination]\n",
    "#                     me_pressure, me_time = calculate_pressure_path(candidate_me_path, valve_maps, pressure_map, current_time=26)\n",
    "#                     ele_pressure, ele_time = calculate_pressure_path(candidate_ele_path, valve_maps, pressure_map, current_time=26)\n",
    "#                     if me_time >= 0:\n",
    "#                         new_me_path = candidate_me_path\n",
    "#                         other_paths_possible = True\n",
    "#                     else:\n",
    "#                         new_me_path = me_path\n",
    "                    \n",
    "#                     if ele_time >= 0:\n",
    "#                         new_ele_path = candidate_ele_path\n",
    "#                         other_paths_possible = True\n",
    "#                     else:\n",
    "#                         new_ele_path = ele_path\n",
    "                    \n",
    "#                     if (me_time >= 0) or (ele_time >= 0):\n",
    "#                         new_me_pressure, new_me_time = calculate_pressure_path(new_me_path, valve_maps, pressure_map, current_time=26)\n",
    "#                         new_ele_pressure, new_ele_time = calculate_pressure_path(new_ele_path, valve_maps, pressure_map, current_time=26)\n",
    "#                         new_pressure = new_me_pressure + new_ele_pressure\n",
    "#                         new_paths_so_far.append((new_me_path, new_ele_path, new_pressure))\n",
    "# #                         print(f'Adding new path {new_me_path, new_ele_path}')\n",
    "#             if not other_paths_possible:\n",
    "#                 finalized_paths.append((me_path, ele_path, pressure))\n",
    "#         paths_so_far = new_paths_so_far\n",
    "\n",
    "highest_pressure = sorted(finalized_paths, key = lambda x: x[2])[-1]\n",
    "        \n",
    "print(highest_pressure)"
   ]
  },
  {
   "cell_type": "code",
   "execution_count": 34,
   "id": "fd4ea16f",
   "metadata": {},
   "outputs": [
    {
     "data": {
      "text/plain": [
       "(1473, 6)"
      ]
     },
     "execution_count": 34,
     "metadata": {},
     "output_type": "execute_result"
    }
   ],
   "source": [
    "calculate_pressure_path(['YI', 'UA', 'AW', 'EL', 'OY', 'FL'], valve_maps, pressure_map, current_time=26)"
   ]
  },
  {
   "cell_type": "code",
   "execution_count": 35,
   "id": "5f9fe4aa",
   "metadata": {},
   "outputs": [
    {
     "data": {
      "text/plain": [
       "(954, 2)"
      ]
     },
     "execution_count": 35,
     "metadata": {},
     "output_type": "execute_result"
    }
   ],
   "source": [
    "calculate_pressure_path(['EG', 'XY', 'CR', 'OZ', 'FX'], valve_maps, pressure_map, current_time=26)"
   ]
  },
  {
   "cell_type": "code",
   "execution_count": null,
   "id": "8eae49fc",
   "metadata": {},
   "outputs": [],
   "source": [
    "# Find groups of 3 that work very well together\n"
   ]
  },
  {
   "cell_type": "code",
   "execution_count": 55,
   "id": "13c4e217",
   "metadata": {},
   "outputs": [
    {
     "data": {
      "text/plain": [
       "(1515, 2)"
      ]
     },
     "execution_count": 55,
     "metadata": {},
     "output_type": "execute_result"
    }
   ],
   "source": [
    "calculate_pressure_path(['YI', 'UA', 'AW', 'EL', 'OY', 'FL', 'EG'], valve_maps, pressure_map, current_time=26)"
   ]
  },
  {
   "cell_type": "code",
   "execution_count": 58,
   "id": "68ffdbc5",
   "metadata": {},
   "outputs": [
    {
     "data": {
      "text/plain": [
       "{'EG': 21,\n",
       " 'EL': 16,\n",
       " 'FL': 22,\n",
       " 'VA': 20,\n",
       " 'UA': 19,\n",
       " 'WW': 4,\n",
       " 'XY': 24,\n",
       " 'FX': 14,\n",
       " 'OY': 13,\n",
       " 'GQ': 18,\n",
       " 'AW': 25,\n",
       " 'CR': 8,\n",
       " 'TU': 7,\n",
       " 'OZ': 10,\n",
       " 'YI': 15}"
      ]
     },
     "execution_count": 58,
     "metadata": {},
     "output_type": "execute_result"
    }
   ],
   "source": [
    "{key: value for key,value in pressure_map.items() if key in pressure_nodes}"
   ]
  },
  {
   "cell_type": "code",
   "execution_count": 56,
   "id": "bcda9e06",
   "metadata": {},
   "outputs": [
    {
     "data": {
      "text/plain": [
       "{'EG': 5,\n",
       " 'CR': 2,\n",
       " 'FL': 8,\n",
       " 'OY': 6,\n",
       " 'EL': 8,\n",
       " 'AW': 8,\n",
       " 'YI': 4,\n",
       " 'FX': 4,\n",
       " 'UA': 6,\n",
       " 'OZ': 2,\n",
       " 'WW': 2,\n",
       " 'GQ': 7,\n",
       " 'TU': 3,\n",
       " 'VA': 6,\n",
       " 'XY': 8}"
      ]
     },
     "execution_count": 56,
     "metadata": {},
     "output_type": "execute_result"
    }
   ],
   "source": [
    "{key: value for key,value in leastDistance(valve_maps, 'AA').items() if key in pressure_nodes}"
   ]
  },
  {
   "cell_type": "code",
   "execution_count": null,
   "id": "8cb2ce69",
   "metadata": {},
   "outputs": [],
   "source": []
  }
 ],
 "metadata": {
  "kernelspec": {
   "display_name": "Python 3 (ipykernel)",
   "language": "python",
   "name": "python3"
  },
  "language_info": {
   "codemirror_mode": {
    "name": "ipython",
    "version": 3
   },
   "file_extension": ".py",
   "mimetype": "text/x-python",
   "name": "python",
   "nbconvert_exporter": "python",
   "pygments_lexer": "ipython3",
   "version": "3.9.12"
  }
 },
 "nbformat": 4,
 "nbformat_minor": 5
}
