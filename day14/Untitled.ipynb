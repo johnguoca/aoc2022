{
 "cells": [
  {
   "cell_type": "code",
   "execution_count": 75,
   "id": "e26ae70f",
   "metadata": {},
   "outputs": [
    {
     "name": "stdout",
     "output_type": "stream",
     "text": [
      "994\n"
     ]
    }
   ],
   "source": [
    "import numpy as np\n",
    "    \n",
    "def window(arr, k):\n",
    "    for i in range(len(arr)-k+1):\n",
    "        yield arr[i:i+k]\n",
    "\n",
    "def fill_between_coords(p1, p2, matrix):\n",
    "    if p1[0] == p2[0]: # x is same, fill in y\n",
    "        start = min(p1[1], p2[1])\n",
    "        end = max(p1[1], p2[1])\n",
    "        for y in range(start, end+1):\n",
    "            matrix[(p1[0], y)] = 1\n",
    "    if p1[1] == p2[1]: # x is same, fill in y\n",
    "        start = min(p1[0], p2[0])\n",
    "        end = max(p1[0], p2[0])\n",
    "        for x in range(start, end+1):\n",
    "            matrix[(x, p1[1])] = 1\n",
    "            \n",
    "            \n",
    "counter = 0\n",
    "\n",
    "def drop(matrix, max_y):\n",
    "    x0 = 500\n",
    "    y0 = 0\n",
    "    \n",
    "    while (y0 < max_y) and (matrix[x0, y0] == 0):\n",
    "#         print(f'Sand at ({x0}, {y0})')\n",
    "        # If below is empty, go down\n",
    "        if matrix[x0, y0 + 1] == 0:\n",
    "            y0 += 1\n",
    "        elif matrix[x0 - 1, y0 + 1] == 0:\n",
    "            x0 -= 1\n",
    "            y0 += 1\n",
    "        elif matrix[x0 + 1, y0 + 1] == 0:\n",
    "            x0 += 1\n",
    "            y0 += 1\n",
    "        else:\n",
    "#             print(f'putting sand at ({x0},{y0})')\n",
    "            matrix[x0, y0] = 1\n",
    "            if (x0 == 500) and (y0 == 0):\n",
    "                return False\n",
    "            return True\n",
    "    return False\n",
    "    \n",
    "\n",
    "\n",
    "    \n",
    "x_coords = []\n",
    "y_coords = []\n",
    "    \n",
    "matrix = np.zeros((557, 168))\n",
    "with open('input.txt') as file:\n",
    "    for f in file:\n",
    "        coords = f.strip().split(' -> ')\n",
    "        for coords_1, coords_2 in window(coords, 2):\n",
    "            p1 = [int(i) for i in coords_1.split(',')]\n",
    "            p2 = [int(i) for i in coords_2.split(',')]\n",
    "            x_coords.append(p1[0])\n",
    "            x_coords.append(p2[0])\n",
    "            y_coords.append(p1[1])\n",
    "            y_coords.append(p2[1])\n",
    "            fill_between_coords(p1, p2, matrix)\n",
    "\n",
    "while True:\n",
    "    try:\n",
    "        drop(matrix, max_y=169)\n",
    "        counter += 1\n",
    "    except:\n",
    "        break\n",
    "    \n",
    "print(counter)\n",
    "\n",
    "        "
   ]
  },
  {
   "cell_type": "code",
   "execution_count": 95,
   "id": "257fa02d",
   "metadata": {},
   "outputs": [
    {
     "name": "stdout",
     "output_type": "stream",
     "text": [
      "26282\n"
     ]
    }
   ],
   "source": [
    "x_coords = []\n",
    "y_coords = []\n",
    "counter = 0\n",
    "\n",
    "matrix = np.zeros((800, 170))\n",
    "# matrix = np.zeros((550, 12))\n",
    "with open('input.txt') as file:\n",
    "    for f in file:\n",
    "        coords = f.strip().split(' -> ')\n",
    "        for coords_1, coords_2 in window(coords, 2):\n",
    "            p1 = [int(i) for i in coords_1.split(',')]\n",
    "            p2 = [int(i) for i in coords_2.split(',')]\n",
    "            x_coords.append(p1[0])\n",
    "            x_coords.append(p2[0])\n",
    "            y_coords.append(p1[1])\n",
    "            y_coords.append(p2[1])\n",
    "            fill_between_coords(p1, p2, matrix)\n",
    "\n",
    "matrix[:, 169] = 1\n",
    "\n",
    "while drop(matrix, max_y=169):\n",
    "    try:\n",
    "        counter += 1\n",
    "        \n",
    "    except:\n",
    "        break\n",
    "    \n",
    "print(counter)"
   ]
  },
  {
   "cell_type": "code",
   "execution_count": 84,
   "id": "f3315c7f",
   "metadata": {},
   "outputs": [
    {
     "data": {
      "text/plain": [
       "9"
      ]
     },
     "execution_count": 84,
     "metadata": {},
     "output_type": "execute_result"
    }
   ],
   "source": [
    "max(y_coords)"
   ]
  },
  {
   "cell_type": "code",
   "execution_count": 58,
   "id": "671952db",
   "metadata": {},
   "outputs": [
    {
     "data": {
      "text/plain": [
       "(800, 170)"
      ]
     },
     "execution_count": 58,
     "metadata": {},
     "output_type": "execute_result"
    }
   ],
   "source": [
    "matrix.shape"
   ]
  },
  {
   "cell_type": "code",
   "execution_count": null,
   "id": "36003f16",
   "metadata": {},
   "outputs": [],
   "source": []
  }
 ],
 "metadata": {
  "kernelspec": {
   "display_name": "Python 3 (ipykernel)",
   "language": "python",
   "name": "python3"
  },
  "language_info": {
   "codemirror_mode": {
    "name": "ipython",
    "version": 3
   },
   "file_extension": ".py",
   "mimetype": "text/x-python",
   "name": "python",
   "nbconvert_exporter": "python",
   "pygments_lexer": "ipython3",
   "version": "3.9.12"
  }
 },
 "nbformat": 4,
 "nbformat_minor": 5
}
