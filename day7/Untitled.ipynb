{
 "cells": [
  {
   "cell_type": "code",
   "execution_count": 50,
   "id": "7c40e797",
   "metadata": {},
   "outputs": [
    {
     "name": "stdout",
     "output_type": "stream",
     "text": [
      "4795677\n",
      "7355934\n",
      "5469168\n",
      "5469168\n"
     ]
    }
   ],
   "source": [
    "current_dirs = []\n",
    "current_sizes = []\n",
    "dir_sizes = {}\n",
    "small_sizes = 0\n",
    "\n",
    "total_size = 44795677\n",
    "current_free = 70000000 - total_size\n",
    "addl_required = 30000000 - current_free\n",
    "print(addl_required)\n",
    "\n",
    "smallest_so_far = total_size\n",
    "\n",
    "with open('input.txt') as file:\n",
    "    for f in file:\n",
    "        if f.startswith('$ cd'):\n",
    "            destination = f.split()[-1]\n",
    "            if destination == '..':\n",
    "#                 tmp = current_dirs.pop()\n",
    "                latest_size = current_sizes.pop()\n",
    "#                 if dir_sizes[tmp] <= 100000:\n",
    "#                     small_sizes += dir_sizes[tmp]\n",
    "#                     print(f'Small sizes: {small_sizes}')\n",
    "#                 dir_sizes[tmp] = 0\n",
    "#                 print(f'Exiting {tmp}')\n",
    "                if latest_size <= 100000:\n",
    "                    small_sizes += latest_size\n",
    "                if (latest_size >= addl_required) & (latest_size < smallest_so_far):\n",
    "                    print(latest_size)\n",
    "                    smallest_so_far = latest_size\n",
    "            else:\n",
    "                current_dirs.append(destination)\n",
    "                current_sizes.append(0)\n",
    "#                 print(f'Entering {destination}')\n",
    "        elif f[0].isnumeric():\n",
    "            size = f.split()[0]\n",
    "            for idx, val in enumerate(current_sizes):\n",
    "                current_sizes[idx] = val + int(size)\n",
    "\n",
    "# print(dir_sizes)\n",
    "\n",
    "# print(small_sizes)\n",
    "print(smallest_so_far)"
   ]
  },
  {
   "cell_type": "code",
   "execution_count": 43,
   "id": "d572c189",
   "metadata": {},
   "outputs": [
    {
     "name": "stdout",
     "output_type": "stream",
     "text": [
      "[44795677, 1117164, 163455]\n"
     ]
    }
   ],
   "source": [
    "print(current_sizes)"
   ]
  },
  {
   "cell_type": "code",
   "execution_count": 46,
   "id": "d2250d55",
   "metadata": {},
   "outputs": [
    {
     "data": {
      "text/plain": [
       "True"
      ]
     },
     "execution_count": 46,
     "metadata": {},
     "output_type": "execute_result"
    }
   ],
   "source": [
    "1 + 1 == 2 & 1 + 1 == 2"
   ]
  },
  {
   "cell_type": "code",
   "execution_count": null,
   "id": "fa8a49ee",
   "metadata": {},
   "outputs": [],
   "source": []
  }
 ],
 "metadata": {
  "kernelspec": {
   "display_name": "Python 3 (ipykernel)",
   "language": "python",
   "name": "python3"
  },
  "language_info": {
   "codemirror_mode": {
    "name": "ipython",
    "version": 3
   },
   "file_extension": ".py",
   "mimetype": "text/x-python",
   "name": "python",
   "nbconvert_exporter": "python",
   "pygments_lexer": "ipython3",
   "version": "3.9.12"
  }
 },
 "nbformat": 4,
 "nbformat_minor": 5
}
