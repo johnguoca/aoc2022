{
 "cells": [
  {
   "cell_type": "code",
   "execution_count": 9,
   "id": "cb84fd41",
   "metadata": {},
   "outputs": [
    {
     "name": "stdout",
     "output_type": "stream",
     "text": [
      "11449\n"
     ]
    }
   ],
   "source": [
    "winning_map = { # Value beats key\n",
    "    'A': 'Y',\n",
    "    'B': 'Z',\n",
    "    'C': 'X',\n",
    "}\n",
    "\n",
    "drawing_map = {\n",
    "    'A': 'X',\n",
    "    'B': 'Y', \n",
    "    'C': 'Z',\n",
    "}\n",
    "\n",
    "losing_map = {\n",
    "    'A': 'Z',\n",
    "    'B': 'X',\n",
    "    'C': 'Y'\n",
    "}\n",
    "\n",
    "scoring_map = {\n",
    "    'X': 1,\n",
    "    'Y': 2,\n",
    "    'Z': 3,\n",
    "}\n",
    "\n",
    "score = 0\n",
    "\n",
    "with open('input.txt') as file:\n",
    "    for f in file:\n",
    "        opp = f[0]\n",
    "        me = f[2]\n",
    "        if winning_map[opp] == me:\n",
    "            score += 6\n",
    "        elif drawing_map[opp] == me:\n",
    "            score += 3\n",
    "        else:\n",
    "            score += 0\n",
    "        score += scoring_map[me]\n",
    "print(score)\n",
    "            "
   ]
  },
  {
   "cell_type": "code",
   "execution_count": null,
   "id": "b3da29fc",
   "metadata": {},
   "outputs": [],
   "source": [
    "\n",
    "\n",
    "with open('input.txt') as file:\n",
    "    for f in file:\n",
    "        opp = f[0]\n",
    "        result = f[2]\n",
    "        if result = 'X':\n",
    "            me = losing_map[opp]\n",
    "        elif result == 'Y':\n",
    "            me = drawing_map[opp]\n",
    "        else:\n",
    "            me = winning_map[opp]\n",
    "            \n",
    "            \n",
    "        if winning_map[opp] == me:\n",
    "            score += 6\n",
    "        elif drawing_map[opp] == me:\n",
    "            score += 3\n",
    "        else:\n",
    "            score += 0\n",
    "        score += scoring_map[me]\n",
    "print(score)"
   ]
  }
 ],
 "metadata": {
  "kernelspec": {
   "display_name": "Python 3 (ipykernel)",
   "language": "python",
   "name": "python3"
  },
  "language_info": {
   "codemirror_mode": {
    "name": "ipython",
    "version": 3
   },
   "file_extension": ".py",
   "mimetype": "text/x-python",
   "name": "python",
   "nbconvert_exporter": "python",
   "pygments_lexer": "ipython3",
   "version": "3.9.12"
  }
 },
 "nbformat": 4,
 "nbformat_minor": 5
}
