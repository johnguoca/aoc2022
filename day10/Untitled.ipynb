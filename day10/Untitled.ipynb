{
 "cells": [
  {
   "cell_type": "code",
   "execution_count": 25,
   "id": "150890c1",
   "metadata": {},
   "outputs": [
    {
     "name": "stdout",
     "output_type": "stream",
     "text": [
      "###..###....##.#....####.#..#.#....###..\n",
      "#..#.#..#....#.#....#....#..#.#....#..#.\n",
      "###..#..#....#.#....###..#..#.#....#..#.\n",
      "#..#.###.....#.#....#....#..#.#....###..\n",
      "#..#.#.#..#..#.#....#....#..#.#....#....\n",
      "###..#..#..##..####.#.....##..####.#....\n"
     ]
    }
   ],
   "source": [
    "cycle = 1\n",
    "number = 1\n",
    "\n",
    "secret = 0\n",
    "\n",
    "full_message = \"\"\n",
    "\n",
    "with open('input.txt') as file:\n",
    "    for fa in file:\n",
    "        f = fa.strip()\n",
    "        if f == 'noop':\n",
    "            position = (cycle - 1) % 40\n",
    "            if position in [number-1, number, number+1]:\n",
    "                full_message += '#'\n",
    "            else:\n",
    "                full_message += '.'\n",
    "            cycle += 1\n",
    "        else:\n",
    "            addx_value = int(f.split()[-1])\n",
    "            for i in range(2):\n",
    "                position = (cycle - 1) % 40\n",
    "                if position in [number-1, number, number+1]:\n",
    "                    full_message += '#'\n",
    "                else:\n",
    "                    full_message += '.'\n",
    "                cycle += 1\n",
    "                if i == 1:\n",
    "                    number += addx_value\n",
    "\n",
    "                    \n",
    "for i in range(6):\n",
    "    start = i*40\n",
    "    end = start + 40\n",
    "    print(full_message[start:end])"
   ]
  },
  {
   "cell_type": "code",
   "execution_count": 22,
   "id": "6559f752",
   "metadata": {},
   "outputs": [
    {
     "name": "stdout",
     "output_type": "stream",
     "text": [
      "##..##..#..##...##.##..##..##..##..##..#\n",
      "###..####..###...###...####..####..###..\n",
      "##.....#####...###.....####.....##.....#\n",
      "####.....##.#......#####.....####.......\n",
      "###.##.....##.###......######......##.#.\n",
      "###.##.......####.#........########.....\n"
     ]
    }
   ],
   "source": []
  },
  {
   "cell_type": "code",
   "execution_count": null,
   "id": "9aeb6f34",
   "metadata": {},
   "outputs": [],
   "source": []
  }
 ],
 "metadata": {
  "kernelspec": {
   "display_name": "Python 3 (ipykernel)",
   "language": "python",
   "name": "python3"
  },
  "language_info": {
   "codemirror_mode": {
    "name": "ipython",
    "version": 3
   },
   "file_extension": ".py",
   "mimetype": "text/x-python",
   "name": "python",
   "nbconvert_exporter": "python",
   "pygments_lexer": "ipython3",
   "version": "3.9.12"
  }
 },
 "nbformat": 4,
 "nbformat_minor": 5
}
